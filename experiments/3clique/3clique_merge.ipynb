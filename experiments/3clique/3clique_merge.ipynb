{
 "cells": [
  {
   "cell_type": "code",
   "execution_count": 1,
   "outputs": [
    {
     "name": "stdout",
     "output_type": "stream",
     "text": [
      "\n",
      "Dataset:                  Cora():\n",
      "========================================================================================================\n",
      "Number of graphs:         1\n",
      "Number of features:       1433\n",
      "Number of classes:        7\n",
      "========================================================================================================\n",
      "Number of nodes:          2708\n",
      "Number of edges:          10556\n",
      "Average node degree:      3.90\n",
      "Number of training nodes: 140\n",
      "Training node label rate: 0.05\n",
      "Has isolated nodes:       False\n",
      "Has self-loops:           False\n",
      "Is undirected:            True\n"
     ]
    }
   ],
   "source": [
    "from torch_geometric.datasets import Planetoid\n",
    "from torch_geometric.transforms import NormalizeFeatures\n",
    "\n",
    "dataset = Planetoid(root=\"data/Planetoid\", name=\"Cora\", transform=NormalizeFeatures())\n",
    "\n",
    "print()\n",
    "print(f\"Dataset:                  {dataset}:\")\n",
    "print(\n",
    "    \"========================================================================================================\"\n",
    ")\n",
    "print(f\"Number of graphs:         {len(dataset)}\")\n",
    "print(f\"Number of features:       {dataset.num_features}\")\n",
    "print(f\"Number of classes:        {dataset.num_classes}\")\n",
    "\n",
    "data = dataset[0]\n",
    "\n",
    "print(\n",
    "    \"========================================================================================================\"\n",
    ")\n",
    "print(f\"Number of nodes:          {data.num_nodes}\")\n",
    "print(f\"Number of edges:          {data.num_edges}\")\n",
    "print(f\"Average node degree:      {data.num_edges / data.num_nodes:.2f}\")\n",
    "print(f\"Number of training nodes: {data.train_mask.sum()}\")\n",
    "print(f\"Training node label rate: {int(data.train_mask.sum()) / data.num_nodes:.2f}\")\n",
    "print(f\"Has isolated nodes:       {data.has_isolated_nodes()}\")\n",
    "print(f\"Has self-loops:           {data.has_self_loops()}\")\n",
    "print(f\"Is undirected:            {data.is_undirected()}\")"
   ],
   "metadata": {
    "collapsed": false,
    "pycharm": {
     "name": "#%%\n"
    }
   }
  },
  {
   "cell_type": "markdown",
   "source": [
    "# Finding cliques\n",
    "\n",
    "1. Load the data in our own representation and get all 3-cliques from the graph"
   ],
   "metadata": {
    "collapsed": false,
    "pycharm": {
     "name": "#%% md\n"
    }
   }
  },
  {
   "cell_type": "code",
   "execution_count": 2,
   "outputs": [],
   "source": [
    "from graph import Graph, Node\n",
    "\n",
    "graph = Graph(data)"
   ],
   "metadata": {
    "collapsed": false,
    "pycharm": {
     "name": "#%%\n"
    }
   }
  },
  {
   "cell_type": "markdown",
   "source": [
    "2. Sort the cliques by given criteria. Currently it is sum of distances between all pairs of feature vectors: $\\left| f_a - f_b \\right| + \\left| f_a - f_c \\right| + \\left| f_b - f_c \\right|$ where $f_v$ is a feature vector of node $v$."
   ],
   "metadata": {
    "collapsed": false,
    "pycharm": {
     "name": "#%% md\n"
    }
   }
  },
  {
   "cell_type": "code",
   "execution_count": 3,
   "outputs": [],
   "source": [
    "from numpy.linalg import norm\n",
    "from typing import Tuple\n",
    "from torch import Tensor\n",
    "\n",
    "\n",
    "def euclidean_distance(tup: Tuple[Node, Node, Node]) -> float:\n",
    "    a, b, c = tup\n",
    "\n",
    "    ab_len = norm(a.features - b.features)\n",
    "    ac_len = norm(a.features - c.features)\n",
    "    bc_len = norm(b.features - c.features)\n",
    "\n",
    "    return ab_len + ac_len + bc_len\n",
    "\n",
    "\n",
    "def manhattan_distance(tup: Tuple[Node, Node, Node]) -> float:\n",
    "    def _manhattan(a_feat: Tensor, b_feat: Tensor) -> float:\n",
    "        return sum(abs(a_feat - b_feat))\n",
    "\n",
    "    a, b, c = tup\n",
    "\n",
    "    ab_len = _manhattan(a.features, b.features)\n",
    "    ac_len = _manhattan(a.features, c.features)\n",
    "    bc_len = _manhattan(b.features, c.features)\n",
    "\n",
    "    return ab_len + ac_len + bc_len"
   ],
   "metadata": {
    "collapsed": false,
    "pycharm": {
     "name": "#%%\n"
    }
   }
  },
  {
   "cell_type": "markdown",
   "source": [
    "3. When the cliques are sorted, we want to do exactly one round of 3-clique-folding:\n",
    "- Take the clique with the smallest sum of distances\n",
    "- Take average ($\\frac{1}{3} * \\Sigma_{i = 0}^2\\ f_i$) of their feature vectors, call it \"common features\"\n",
    "- Take all edges coming to all of the nodes from clique: $E\\prime = \\left\\{ (v_k, v_j) | v_k \\in (v_a, v_b, v_c),\\ \\neg j \\in (a, b, c) \\right\\}$\n",
    "- Delete nodes $v_a$, $v_b$, $v_c$ and all of their edges from the graph\n",
    "- Create a new node with common features and all of the edges from $E\\prime$"
   ],
   "metadata": {
    "collapsed": false,
    "pycharm": {
     "name": "#%% md\n"
    }
   }
  },
  {
   "cell_type": "code",
   "execution_count": 4,
   "outputs": [],
   "source": [
    "# Get initial set of 3-cliques\n",
    "cliques = graph.get_all_3cliques()\n",
    "cliques.sort(key=euclidean_distance)\n",
    "\n",
    "while len(cliques):\n",
    "    top = cliques.pop(0)\n",
    "    graph.replace_3clique_with_node(top)\n",
    "\n",
    "    cliques = list(\n",
    "        filter(\n",
    "            lambda cl: all([v not in cl for v in top]),\n",
    "            cliques,\n",
    "        )\n",
    "    )"
   ],
   "metadata": {
    "collapsed": false,
    "pycharm": {
     "name": "#%%\n"
    }
   }
  },
  {
   "cell_type": "code",
   "execution_count": 5,
   "outputs": [],
   "source": [
    "processed_data = graph.get_graph_data(data)"
   ],
   "metadata": {
    "collapsed": false,
    "pycharm": {
     "name": "#%%\n"
    }
   }
  },
  {
   "cell_type": "code",
   "execution_count": 6,
   "outputs": [
    {
     "name": "stdout",
     "output_type": "stream",
     "text": [
      "Default dataset: Data(x=[2708, 1433], edge_index=[2, 10556], y=[2708], train_mask=[2708], val_mask=[2708], test_mask=[2708])\n",
      "Processed dataset: Data(x=[2118, 1433], edge_index=[2, 4560], y=[2118], train_mask=[2118], val_mask=[2118], test_mask=[2118])\n",
      "\n",
      "Removed 21.79% of nodes\n",
      "Removed 56.8% of edges\n"
     ]
    }
   ],
   "source": [
    "print(\"Default dataset:\", data)\n",
    "print(\"Processed dataset:\", processed_data)\n",
    "print()\n",
    "\n",
    "nodes_removed_share = (data.num_nodes - processed_data.num_nodes) / data.num_nodes * 100\n",
    "default_edges = len(data.edge_index[0])\n",
    "processed_edges = len(processed_data.edge_index[0])\n",
    "edges_removed_share = (default_edges - processed_edges) / default_edges * 100\n",
    "\n",
    "print(f\"Removed {round(nodes_removed_share, 2)}% of nodes\")\n",
    "print(f\"Removed {round(edges_removed_share, 2)}% of edges\")"
   ],
   "metadata": {
    "collapsed": false,
    "pycharm": {
     "name": "#%%\n"
    }
   }
  },
  {
   "cell_type": "markdown",
   "source": [
    "Now let us create 2 models: first one with default dataset, and the second one with preprocessed data where 3-cliques were merged in one node"
   ],
   "metadata": {
    "collapsed": false,
    "pycharm": {
     "name": "#%% md\n"
    }
   }
  },
  {
   "cell_type": "code",
   "execution_count": 7,
   "outputs": [],
   "source": [
    "from model_tester import ModelTester\n",
    "from GCNConv import GCNConvModel\n",
    "\n",
    "\n",
    "default = GCNConvModel(\n",
    "    data, num_features=dataset.num_features, num_classes=dataset.num_classes\n",
    ")\n",
    "default.name = \"default\"\n",
    "cliques_merged = GCNConvModel(\n",
    "    processed_data, num_features=dataset.num_features, num_classes=dataset.num_classes\n",
    ")\n",
    "cliques_merged.name = \"processed\"\n",
    "\n",
    "default_tester = ModelTester(model=default)\n",
    "preprocessed_tester = ModelTester(model=cliques_merged)"
   ],
   "metadata": {
    "collapsed": false,
    "pycharm": {
     "name": "#%%\n"
    }
   }
  },
  {
   "cell_type": "code",
   "execution_count": 8,
   "outputs": [
    {
     "data": {
      "text/plain": "Model:                  default\nTests ran:              1\nAverage training time:  3.213s\nAverage accuracy:       0.809\nAverage final loss:     0.33885\nAverage entropy:        0.59078"
     },
     "execution_count": 8,
     "metadata": {},
     "output_type": "execute_result"
    }
   ],
   "source": [
    "default_test_results = default_tester.train(300)\n",
    "default_test_results"
   ],
   "metadata": {
    "collapsed": false,
    "pycharm": {
     "name": "#%%\n"
    }
   }
  },
  {
   "cell_type": "code",
   "execution_count": 9,
   "outputs": [
    {
     "data": {
      "text/plain": "Model:                  processed\nTests ran:              1\nAverage training time:  1.878s\nAverage accuracy:       0.73894\nAverage final loss:     0.28601\nAverage entropy:        0.60565"
     },
     "execution_count": 9,
     "metadata": {},
     "output_type": "execute_result"
    }
   ],
   "source": [
    "preprocessed_test_results = preprocessed_tester.train(300)\n",
    "preprocessed_test_results"
   ],
   "metadata": {
    "collapsed": false,
    "pycharm": {
     "name": "#%%\n"
    }
   }
  },
  {
   "cell_type": "markdown",
   "source": [
    "# Benchmark\n",
    "\n",
    "Now, in order to calculate average accuracy, we ought to run $N$ iterations of `train_and_test` with $M$ epochs"
   ],
   "metadata": {
    "collapsed": false,
    "pycharm": {
     "name": "#%% md\n"
    }
   }
  },
  {
   "cell_type": "code",
   "execution_count": 10,
   "outputs": [],
   "source": [
    "N = 100\n",
    "M = 300"
   ],
   "metadata": {
    "collapsed": false,
    "pycharm": {
     "name": "#%%\n"
    }
   }
  },
  {
   "cell_type": "code",
   "execution_count": 11,
   "outputs": [
    {
     "data": {
      "text/plain": "  0%|          | 0/100 [00:00<?, ?it/s]",
      "application/vnd.jupyter.widget-view+json": {
       "version_major": 2,
       "version_minor": 0,
       "model_id": "6f43d91a3af5497987ca0c4ad7ca04bb"
      }
     },
     "metadata": {},
     "output_type": "display_data"
    },
    {
     "data": {
      "text/plain": "Model:                  default\nTests ran:              100\nAverage training time:  2.463s\nAverage accuracy:       0.80399\nAverage final loss:     0.29522\nAverage entropy:        0.58723"
     },
     "execution_count": 11,
     "metadata": {},
     "output_type": "execute_result"
    }
   ],
   "source": [
    "default_bulk_results = default_tester.bulk_train(steps=N, epochs=M)\n",
    "default_bulk_results"
   ],
   "metadata": {
    "collapsed": false,
    "pycharm": {
     "name": "#%%\n"
    }
   }
  },
  {
   "cell_type": "code",
   "execution_count": 12,
   "outputs": [
    {
     "data": {
      "text/plain": "  0%|          | 0/100 [00:00<?, ?it/s]",
      "application/vnd.jupyter.widget-view+json": {
       "version_major": 2,
       "version_minor": 0,
       "model_id": "59e174388202415b822fc1d6befc130f"
      }
     },
     "metadata": {},
     "output_type": "display_data"
    },
    {
     "data": {
      "text/plain": "Model:                  processed\nTests ran:              100\nAverage training time:  1.749s\nAverage accuracy:       0.74522\nAverage final loss:     0.30038\nAverage entropy:        0.61078"
     },
     "execution_count": 12,
     "metadata": {},
     "output_type": "execute_result"
    }
   ],
   "source": [
    "preprocessed_bulk_results = preprocessed_tester.bulk_train(steps=N, epochs=M)\n",
    "preprocessed_bulk_results"
   ],
   "metadata": {
    "collapsed": false,
    "pycharm": {
     "name": "#%%\n"
    }
   }
  },
  {
   "cell_type": "code",
   "execution_count": 13,
   "outputs": [
    {
     "data": {
      "text/plain": "<Figure size 864x576 with 1 Axes>",
      "image/png": "[encoded data removed]"
     },
     "metadata": {
      "needs_background": "light"
     },
     "output_type": "display_data"
    }
   ],
   "source": [
    "import matplotlib.pyplot as plt\n",
    "\n",
    "default_avg_losses = sum(default_bulk_results.losses) / len(default_bulk_results.losses)\n",
    "merged_avg_losses = sum(preprocessed_bulk_results.losses) / len(\n",
    "    preprocessed_bulk_results.losses\n",
    ")\n",
    "\n",
    "fig, ax = plt.subplots(figsize=(12, 8))\n",
    "ax.plot(default_avg_losses, color=\"blue\", label=\"Avg default data losses\")\n",
    "ax.plot(merged_avg_losses, color=\"red\", label=\"Avg processed data losses\")\n",
    "\n",
    "plt.xlabel(\"Epoch\")\n",
    "plt.ylabel(\"Avg Loss\")\n",
    "\n",
    "least_y = min(min(default_avg_losses), min(merged_avg_losses))\n",
    "greatest_y = max(max(default_avg_losses), max(merged_avg_losses))\n",
    "\n",
    "plt.ylim(\n",
    "    (least_y - 0.1, greatest_y + 0.1)\n",
    ")  # we add/subtract 0.1 in order to make the plot look nicer\n",
    "plt.legend()\n",
    "plt.show()"
   ],
   "metadata": {
    "collapsed": false,
    "pycharm": {
     "name": "#%%\n"
    }
   }
  },
  {
   "cell_type": "markdown",
   "source": [
    "This graph clearly shows us that preprocessing allows us to reduce loss, and, therefore, achieve same results faster. But what about accuracy?"
   ],
   "metadata": {
    "collapsed": false,
    "pycharm": {
     "name": "#%% md\n"
    }
   }
  },
  {
   "cell_type": "code",
   "execution_count": 14,
   "outputs": [
    {
     "data": {
      "text/plain": "<Figure size 864x576 with 1 Axes>",
      "image/png": "[encoded data removed]"
     },
     "metadata": {
      "needs_background": "light"
     },
     "output_type": "display_data"
    }
   ],
   "source": [
    "import numpy as np\n",
    "\n",
    "fig, ax = plt.subplots(figsize=(12, 8))\n",
    "\n",
    "x = np.arange(1, 1 + N)\n",
    "\n",
    "ax.scatter(\n",
    "    x=x,\n",
    "    y=default_bulk_results.accuracies,\n",
    "    color=\"blue\",\n",
    "    label=\"Default data accuracies\",\n",
    ")\n",
    "ax.scatter(\n",
    "    x=x,\n",
    "    y=preprocessed_bulk_results.accuracies,\n",
    "    color=\"red\",\n",
    "    label=\"Processed data accuracies\",\n",
    ")\n",
    "\n",
    "plt.xlabel(\"Experiment\")\n",
    "plt.ylabel(\"Accuracy\")\n",
    "\n",
    "plt.ylim((0, 1))\n",
    "\n",
    "plt.legend()\n",
    "plt.show()"
   ],
   "metadata": {
    "collapsed": false,
    "pycharm": {
     "name": "#%%\n"
    }
   }
  },
  {
   "cell_type": "code",
   "execution_count": 15,
   "outputs": [
    {
     "data": {
      "text/plain": "<Figure size 864x576 with 1 Axes>",
      "image/png": "[encoded data removed]"
     },
     "metadata": {
      "needs_background": "light"
     },
     "output_type": "display_data"
    }
   ],
   "source": [
    "import numpy as np\n",
    "\n",
    "fig, ax = plt.subplots(figsize=(12, 8))\n",
    "\n",
    "x = np.arange(1, 1 + N)\n",
    "\n",
    "ax.scatter(\n",
    "    x=x,\n",
    "    y=default_bulk_results.entropies,\n",
    "    color=\"blue\",\n",
    "    label=\"Default data entropies\",\n",
    ")\n",
    "ax.scatter(\n",
    "    x=x,\n",
    "    y=preprocessed_bulk_results.entropies,\n",
    "    color=\"red\",\n",
    "    label=\"Processed data entropies\",\n",
    ")\n",
    "\n",
    "plt.xlabel(\"Experiment\")\n",
    "plt.ylabel(\"Entropy\")\n",
    "\n",
    "plt.ylim((0, 1))\n",
    "\n",
    "plt.legend()\n",
    "plt.show()"
   ],
   "metadata": {
    "collapsed": false,
    "pycharm": {
     "name": "#%%\n"
    }
   }
  },
  {
   "cell_type": "code",
   "execution_count": 16,
   "outputs": [
    {
     "data": {
      "text/plain": "0.05876888730385188"
     },
     "execution_count": 16,
     "metadata": {},
     "output_type": "execute_result"
    }
   ],
   "source": [
    "default_bulk_results.avg_accuracy - preprocessed_bulk_results.avg_accuracy"
   ],
   "metadata": {
    "collapsed": false,
    "pycharm": {
     "name": "#%%\n"
    }
   }
  }
 ],
 "metadata": {
  "kernelspec": {
   "display_name": "Python 3 (ipykernel)",
   "language": "python",
   "name": "python3"
  },
  "language_info": {
   "codemirror_mode": {
    "name": "ipython",
    "version": 3
   },
   "file_extension": ".py",
   "mimetype": "text/x-python",
   "name": "python",
   "nbconvert_exporter": "python",
   "pygments_lexer": "ipython3",
   "version": "3.9.7"
  }
 },
 "nbformat": 4,
 "nbformat_minor": 1
}